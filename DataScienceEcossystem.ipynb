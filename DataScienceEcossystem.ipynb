{
 "cells": [
  {
   "cell_type": "markdown",
   "id": "9bb5a14e-4d31-499a-881f-9c445e344483",
   "metadata": {},
   "source": [
    "# Data Science Tools and Ecosystem"
   ]
  },
  {
   "cell_type": "markdown",
   "id": "f8eb18b1-f1c6-48c8-982d-5f1008b9ea62",
   "metadata": {},
   "source": [
    "In this notebook, Data Science Tools and Ecosystem is summarized."
   ]
  },
  {
   "cell_type": "markdown",
   "id": "17a0b660-5f28-4cb3-b4a3-9b4313f7e863",
   "metadata": {},
   "source": [
    "## Objectives:\n",
    "\n",
    "- **Introduction to Data Science**: Understanding the fundamentals of data science and its applications.\n",
    "- **Popular Programming Languages for Data Science**: Exploring languages like Python, R, and SQL commonly used in data science projects.\n",
    "- **Data Manipulation and Analysis**: Learning techniques for manipulating and analyzing data using libraries like Pandas and NumPy.\n",
    "- **Data Visualization**: Using tools like Matplotlib and Seaborn to create meaningful visualizations from data.\n",
    "- **Introduction to Machine Learning**: Getting started with basic machine learning concepts and algorithms.\n"
   ]
  },
  {
   "cell_type": "markdown",
   "id": "7064fa55-8750-4a2b-af47-7ccf98581e71",
   "metadata": {},
   "source": [
    "* Some of the popular lagnuages that Data Scientists use are:\n",
    "1. Pyhton\n",
    "2. Julia\n",
    "3. R\n",
    "4. SQL\n",
    "5. C++\n",
    "6. MATLAB\n",
    "7. Scala"
   ]
  },
  {
   "cell_type": "markdown",
   "id": "bbf87526-a831-4fb2-a6d6-a7bef36cb8e7",
   "metadata": {},
   "source": [
    "* Some of the commonly used libraries used by Data Scientists include:\n",
    "1. Pandas\n",
    "2. NumPy\n",
    "3. Keras\n",
    "4. Scikit-learn\n",
    "5. Plotly\n"
   ]
  },
  {
   "cell_type": "markdown",
   "id": "8ee150db-373a-4f25-b49e-da52116f31c3",
   "metadata": {},
   "source": [
    "| Data Science Tools|\n",
    "---------------------\n",
    "| RStudio           |\n",
    "| Spyder            |\n",
    "| TenserFlow        |"
   ]
  },
  {
   "cell_type": "markdown",
   "id": "c3fa45c6-bc19-4f54-9ce5-5beb345c6f6e",
   "metadata": {},
   "source": [
    "### Below  are the few examples of evaluting airthematic expressions in Python:\n",
    "\n",
    "-  In the expression 2 + 3*4, the multiplication operator () has higher precedence than the addition operator (+), so the interpreter will first evaluate the multiplication of 3 and 4, resulting in 12, and then add 2 to that result. This results in the final value of 14.\n",
    "-  Another Examples is:\n",
    " 1. x = 2 + 3 * 4 - 5 / 2 ** 3\n",
    " 2. result = x\n",
    " 3. print(result)\n",
    " 4. ##### Output: 13.6875"
   ]
  },
  {
   "cell_type": "code",
   "execution_count": 9,
   "id": "12b258a4-4c26-4b77-a435-6c10ddf87366",
   "metadata": {},
   "outputs": [
    {
     "data": {
      "text/plain": [
       "17"
      ]
     },
     "execution_count": 9,
     "metadata": {},
     "output_type": "execute_result"
    }
   ],
   "source": [
    "# In this expression (3*4)+5,() braces has Higher precendence,so interpreter will firstly evaluate the braces(the multiplication of 3 and 4), resulting in 12 , and then add 5 to that result.\n",
    "(3*4)+5"
   ]
  },
  {
   "cell_type": "code",
   "execution_count": 10,
   "id": "d585d6ac-bca7-4b33-9e14-fea6f528165a",
   "metadata": {},
   "outputs": [
    {
     "data": {
      "text/plain": [
       "3.3333333333333335"
      ]
     },
     "execution_count": 10,
     "metadata": {},
     "output_type": "execute_result"
    }
   ],
   "source": [
    "#In this expression ,We coverts 200 minutes into hours, by dividing 200 with 60.In results we get 200 minutes into hours.\n",
    "200/60"
   ]
  },
  {
   "cell_type": "markdown",
   "id": "f4b89bbc-a21f-42a2-9799-688b824c4fbd",
   "metadata": {},
   "source": [
    "## Author\n",
    " Muhammad Faizan"
   ]
  },
  {
   "cell_type": "code",
   "execution_count": null,
   "id": "2e078123-7583-4255-83a4-d3e733ef2c2f",
   "metadata": {},
   "outputs": [],
   "source": []
  }
 ],
 "metadata": {
  "kernelspec": {
   "display_name": "Python 3 (ipykernel)",
   "language": "python",
   "name": "python3"
  },
  "language_info": {
   "codemirror_mode": {
    "name": "ipython",
    "version": 3
   },
   "file_extension": ".py",
   "mimetype": "text/x-python",
   "name": "python",
   "nbconvert_exporter": "python",
   "pygments_lexer": "ipython3",
   "version": "3.11.7"
  }
 },
 "nbformat": 4,
 "nbformat_minor": 5
}
